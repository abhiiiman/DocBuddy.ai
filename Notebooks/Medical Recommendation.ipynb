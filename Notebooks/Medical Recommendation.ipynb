{
 "cells": [
  {
   "metadata": {},
   "cell_type": "markdown",
   "source": "## _Personalized Medical Recommendation System using Machine Learning_",
   "id": "e1902f75dc67431"
  },
  {
   "metadata": {},
   "cell_type": "markdown",
   "source": [
    "### _Description_\n",
    "Welcome to our cutting-edge Personalized Medical Recommendation System, a powerful platform designed to assist users in understanding and managing their health. Leveraging the capabilities of machine learning, our system analyzes user-input symptoms to predict potential diseases accurately."
   ],
   "id": "9d17029fca1ab967"
  },
  {
   "metadata": {},
   "cell_type": "markdown",
   "source": "### _Importing the Libraries here_",
   "id": "e9792b01f16480f5"
  },
  {
   "metadata": {
    "ExecuteTime": {
     "end_time": "2024-06-29T04:22:27.099076Z",
     "start_time": "2024-06-29T04:22:26.217228Z"
    }
   },
   "cell_type": "code",
   "source": [
    "import pandas as pd\n",
    "import numpy as np\n",
    "import warnings\n",
    "warnings.filterwarnings('ignore')"
   ],
   "id": "9164874eb37586c1",
   "execution_count": 1,
   "outputs": []
  },
  {
   "metadata": {},
   "cell_type": "markdown",
   "source": "### _Loading the Dataset here_",
   "id": "23c7f3476b2ea94d"
  },
  {
   "metadata": {
    "ExecuteTime": {
     "end_time": "2024-06-29T04:22:27.216119Z",
     "start_time": "2024-06-29T04:22:27.103172Z"
    }
   },
   "cell_type": "code",
   "source": [
    "data = pd.read_csv(r\"Data\\\\Training.csv\")\n",
    "data.head()"
   ],
   "id": "64c82d27c4384f4f",
   "execution_count": 2,
   "outputs": []
  },
  {
   "metadata": {
    "ExecuteTime": {
     "end_time": "2024-06-29T04:22:27.226592Z",
     "start_time": "2024-06-29T04:22:27.216119Z"
    }
   },
   "cell_type": "code",
   "source": [
    "row, col = data.shape[0], data.shape[1]\n",
    "print(f\"Row: {row}, col: {col}\")"
   ],
   "id": "c36183cd00543d72",
   "execution_count": 3,
   "outputs": []
  },
  {
   "metadata": {
    "ExecuteTime": {
     "end_time": "2024-06-29T04:22:27.248163Z",
     "start_time": "2024-06-29T04:22:27.229177Z"
    }
   },
   "cell_type": "code",
   "source": [
    "# data is already processed in the dataset.\n",
    "data.isnull().sum()"
   ],
   "id": "581ba1e94d0b3c5a",
   "execution_count": 4,
   "outputs": []
  },
  {
   "metadata": {
    "ExecuteTime": {
     "end_time": "2024-06-29T04:22:27.260356Z",
     "start_time": "2024-06-29T04:22:27.248163Z"
    }
   },
   "cell_type": "code",
   "source": "print(data['prognosis'].unique())",
   "id": "b322b4d6e29522df",
   "execution_count": 5,
   "outputs": []
  },
  {
   "metadata": {
    "ExecuteTime": {
     "end_time": "2024-06-29T04:22:27.274715Z",
     "start_time": "2024-06-29T04:22:27.260356Z"
    }
   },
   "cell_type": "code",
   "source": [
    "prognosis_count = len(data['prognosis'].unique())\n",
    "print(f\"There are {prognosis_count} unique diseases for classification.\")"
   ],
   "id": "6670504dc27549b3",
   "execution_count": 6,
   "outputs": []
  },
  {
   "metadata": {},
   "cell_type": "markdown",
   "source": [
    "### _Train Test Split here_\n",
    "- Label Encoding the Output column."
   ],
   "id": "f72b483c4b723aa2"
  },
  {
   "metadata": {
    "ExecuteTime": {
     "end_time": "2024-06-29T04:22:28.752839Z",
     "start_time": "2024-06-29T04:22:27.276253Z"
    }
   },
   "cell_type": "code",
   "source": [
    "from sklearn.model_selection import train_test_split\n",
    "from sklearn.preprocessing import LabelEncoder"
   ],
   "id": "41f8f99fbe137ae3",
   "execution_count": 7,
   "outputs": []
  },
  {
   "metadata": {
    "ExecuteTime": {
     "end_time": "2024-06-29T04:22:28.770289Z",
     "start_time": "2024-06-29T04:22:28.752839Z"
    }
   },
   "cell_type": "code",
   "source": [
    "X = data.drop('prognosis', axis=1)\n",
    "y = data['prognosis']"
   ],
   "id": "8332bb7aca709d11",
   "execution_count": 8,
   "outputs": []
  },
  {
   "metadata": {
    "ExecuteTime": {
     "end_time": "2024-06-29T04:22:28.806097Z",
     "start_time": "2024-06-29T04:22:28.770289Z"
    }
   },
   "cell_type": "code",
   "source": "X",
   "id": "7389ee2f128f47a5",
   "execution_count": 9,
   "outputs": []
  },
  {
   "metadata": {
    "ExecuteTime": {
     "end_time": "2024-06-29T04:22:28.816046Z",
     "start_time": "2024-06-29T04:22:28.806097Z"
    }
   },
   "cell_type": "code",
   "source": "y # before label encoding",
   "id": "51949dd45beb7509",
   "execution_count": 10,
   "outputs": []
  },
  {
   "metadata": {
    "ExecuteTime": {
     "end_time": "2024-06-29T04:22:28.822505Z",
     "start_time": "2024-06-29T04:22:28.816046Z"
    }
   },
   "cell_type": "code",
   "source": [
    "# encoding the output variable to make it understandable for the machine learning model.\n",
    "label_encoder = LabelEncoder()\n",
    "Y = label_encoder.fit_transform(y)"
   ],
   "id": "e4ab750d4a119224",
   "execution_count": 11,
   "outputs": []
  },
  {
   "metadata": {
    "ExecuteTime": {
     "end_time": "2024-06-29T04:22:28.830119Z",
     "start_time": "2024-06-29T04:22:28.822505Z"
    }
   },
   "cell_type": "code",
   "source": "Y # after label encoding",
   "id": "635310f1dce409e2",
   "execution_count": 12,
   "outputs": []
  },
  {
   "metadata": {
    "ExecuteTime": {
     "end_time": "2024-06-29T04:22:28.845814Z",
     "start_time": "2024-06-29T04:22:28.831147Z"
    }
   },
   "cell_type": "code",
   "source": "X_train, X_test, Y_train, Y_test = train_test_split(X, Y, test_size=0.3, random_state=20)",
   "id": "c05479407db2436d",
   "execution_count": 13,
   "outputs": []
  },
  {
   "metadata": {
    "ExecuteTime": {
     "end_time": "2024-06-29T04:22:28.853182Z",
     "start_time": "2024-06-29T04:22:28.846900Z"
    }
   },
   "cell_type": "code",
   "source": "X_train.shape, X_test.shape, Y_train.shape, Y_test.shape",
   "id": "6b07d59aa0feab1e",
   "execution_count": 14,
   "outputs": []
  },
  {
   "metadata": {},
   "cell_type": "markdown",
   "source": "### _Training using Top Models_",
   "id": "b26fe22f024c8405"
  },
  {
   "metadata": {
    "ExecuteTime": {
     "end_time": "2024-06-29T04:22:29.222816Z",
     "start_time": "2024-06-29T04:22:28.853182Z"
    }
   },
   "cell_type": "code",
   "source": [
    "from sklearn.datasets import make_classification\n",
    "from sklearn.svm import SVC\n",
    "from sklearn.ensemble import RandomForestClassifier, GradientBoostingClassifier\n",
    "from sklearn.neighbors import KNeighborsClassifier\n",
    "from sklearn.naive_bayes import MultinomialNB\n",
    "from sklearn.metrics import accuracy_score, confusion_matrix"
   ],
   "id": "f4e6b41da68b3f0e",
   "execution_count": 15,
   "outputs": []
  },
  {
   "metadata": {
    "ExecuteTime": {
     "end_time": "2024-06-29T04:22:29.229199Z",
     "start_time": "2024-06-29T04:22:29.222816Z"
    }
   },
   "cell_type": "code",
   "source": [
    "# init the models objects here.\n",
    "SVC = SVC(kernel='linear')\n",
    "RF = RandomForestClassifier(n_estimators=100, random_state=42)\n",
    "GB = GradientBoostingClassifier(n_estimators=100, random_state=42)\n",
    "NB = MultinomialNB()\n",
    "KNN = KNeighborsClassifier(n_neighbors=5)"
   ],
   "id": "bc08d3531c2dad11",
   "execution_count": 16,
   "outputs": []
  },
  {
   "metadata": {
    "ExecuteTime": {
     "end_time": "2024-06-29T04:22:56.743643Z",
     "start_time": "2024-06-29T04:22:29.229199Z"
    }
   },
   "cell_type": "code",
   "source": [
    "models = {\n",
    "    \"Support Vector Classifier\": SVC,\n",
    "    \"Random Forest Classifier\": RF,\n",
    "    \"Gradient Boosting Classifier\": GB,\n",
    "    \"Naive Bayes Classifier\": NB,\n",
    "    \"K Nearest Neighbour\": KNN\n",
    "}\n",
    "\n",
    "for model_name, model in models.items():\n",
    "    # training the model here.\n",
    "    model.fit(X_train, Y_train)\n",
    "    # testing the model here.\n",
    "    score = model.score(X_test, Y_test)\n",
    "    # display the accuracy of the model here.\n",
    "    y_pred = model.predict(X_test)\n",
    "    accuracy = accuracy_score(Y_test, y_pred)\n",
    "    # display the confusion matrix here\n",
    "    cm = confusion_matrix(Y_test, y_pred)\n",
    "    # display the result here\n",
    "    print(f\"Model: {model_name}, Score: {score}, Accuracy: {accuracy}\")\n",
    "    print(f\"Confusion Matrix:\\n{np.array2string(cm, separator=\", \")}\\n\")"
   ],
   "id": "92c4327b59275aa6",
   "execution_count": 17,
   "outputs": []
  },
  {
   "metadata": {},
   "cell_type": "markdown",
   "source": "### _Prediction Test_",
   "id": "c1e63b4e1c0a6c55"
  },
  {
   "metadata": {
    "ExecuteTime": {
     "end_time": "2024-06-29T04:22:56.883173Z",
     "start_time": "2024-06-29T04:22:56.745480Z"
    }
   },
   "cell_type": "code",
   "source": [
    "model_svc = models[\"Support Vector Classifier\"]\n",
    "model_svc.fit(X_train, Y_train)\n",
    "y_pred = model_svc.predict(X_test)\n",
    "accuracy = accuracy_score(Y_test, y_pred)\n",
    "cm = confusion_matrix(Y_test, y_pred)\n",
    "print(f\"Model Support Vector Classifier: {model_svc}\")\n",
    "print(f\"Accuracy: {round(accuracy*100)}%\")\n",
    "print(f\"Confusion Matrix:\\n{np.array2string(cm, separator=\", \")}\")"
   ],
   "id": "646da6e0c5527243",
   "execution_count": 18,
   "outputs": []
  },
  {
   "metadata": {},
   "cell_type": "markdown",
   "source": "### _Saving the Model here_",
   "id": "578227d935be0308"
  },
  {
   "metadata": {
    "ExecuteTime": {
     "end_time": "2024-06-29T04:22:56.890015Z",
     "start_time": "2024-06-29T04:22:56.883173Z"
    }
   },
   "cell_type": "code",
   "source": [
    "import pickle\n",
    "pickle.dump(model_svc, open('Model\\\\model.pkl', 'wb'))"
   ],
   "id": "81aafe565b623e13",
   "execution_count": 19,
   "outputs": []
  },
  {
   "metadata": {},
   "cell_type": "markdown",
   "source": "### _Load the Model here_",
   "id": "9a49507dd01bc6e1"
  },
  {
   "metadata": {
    "ExecuteTime": {
     "end_time": "2024-06-29T04:22:56.896716Z",
     "start_time": "2024-06-29T04:22:56.890015Z"
    }
   },
   "cell_type": "code",
   "source": [
    "# test - 1\n",
    "test_data_1 = X_test.iloc[0].values.reshape(1,-1) # taking out 1 row for testing\n",
    "print(test_data_1)"
   ],
   "id": "fd8ac6ced3ed9d44",
   "execution_count": 20,
   "outputs": []
  },
  {
   "metadata": {
    "ExecuteTime": {
     "end_time": "2024-06-29T04:22:56.905703Z",
     "start_time": "2024-06-29T04:22:56.896716Z"
    }
   },
   "cell_type": "code",
   "source": [
    "model = pickle.load(open('Model\\\\model.pkl', 'rb'))\n",
    "pred = model.predict(test_data_1)\n",
    "print(\"Model Prediction\", pred[0]) # model predicted output\n",
    "print(\"Actual Output\", Y_test[[0]][0]) # actual output"
   ],
   "id": "b58c5e4073e406b8",
   "execution_count": 21,
   "outputs": []
  },
  {
   "metadata": {
    "ExecuteTime": {
     "end_time": "2024-06-29T04:22:56.911288Z",
     "start_time": "2024-06-29T04:22:56.905703Z"
    }
   },
   "cell_type": "code",
   "source": [
    "# test - 2\n",
    "test_data_2 = X_test.iloc[69].values.reshape(1,-1) # taking out 1 row for testing\n",
    "print(test_data_2)"
   ],
   "id": "9bbeaeaba7bd1ffa",
   "execution_count": 22,
   "outputs": []
  },
  {
   "metadata": {
    "ExecuteTime": {
     "end_time": "2024-06-29T04:22:56.917258Z",
     "start_time": "2024-06-29T04:22:56.911288Z"
    }
   },
   "cell_type": "code",
   "source": [
    "pred = model.predict(test_data_2)\n",
    "print(\"Model Prediction\", pred[0])\n",
    "print(\"Actual Output\", Y_test[[69]][0])"
   ],
   "id": "cf7e9242997e42cd",
   "execution_count": 23,
   "outputs": []
  }
 ],
 "metadata": {
  "kernelspec": {
   "display_name": "Python 3",
   "language": "python",
   "name": "python3"
  },
  "language_info": {
   "codemirror_mode": {
    "name": "ipython",
    "version": 2
   },
   "file_extension": ".py",
   "mimetype": "text/x-python",
   "name": "python",
   "nbconvert_exporter": "python",
   "pygments_lexer": "ipython2",
   "version": "2.7.6"
  }
 },
 "nbformat": 4,
 "nbformat_minor": 5
}
